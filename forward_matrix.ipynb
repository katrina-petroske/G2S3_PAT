{
 "cells": [
  {
   "cell_type": "code",
   "execution_count": null,
   "metadata": {
    "scrolled": true
   },
   "outputs": [],
   "source": [
    "from __future__ import absolute_import, division, print_function\n",
    "\n",
    "from hippylib import nb\n",
    "import dolfin as dl\n",
    "import numpy as np\n",
    "import matplotlib.pyplot as plt\n",
    "import sys\n",
    "import pandas as pd\n",
    "%matplotlib inline\n",
    "\n",
    "import logging\n",
    "logging.getLogger('FFC').setLevel(logging.ERROR)\n",
    "logging.getLogger('UFC').setLevel(logging.ERROR)\n",
    "dl.set_log_active(False)\n",
    "\n",
    "sys.path.insert(0,'/home/fenics/Installations/MUQ_INSTALL/lib')\n",
    "from IPython.display import Image\n",
    "\n",
    "# MUQ Includes\n",
    "import pymuqModeling as mm # Needed for Gaussian distribution\n",
    "import pymuqApproximation as ma # Needed for Gaussian processes\n",
    "import pymuqSamplingAlgorithms as ms # Needed for MCMC\n",
    "\n",
    "from PAT_forward import PAT_forward"
   ]
  },
  {
   "cell_type": "markdown",
   "metadata": {},
   "source": [
    "# Hyperparameters"
   ]
  },
  {
   "cell_type": "code",
   "execution_count": null,
   "metadata": {
    "scrolled": true
   },
   "outputs": [],
   "source": [
    "nx = ny = 10\n",
    "mesh = dl.RectangleMesh(dl.Point(0, 0),dl.Point(1,1),nx,ny,\"right\")\n",
    "V = dl.FunctionSpace(mesh, 'P', 1)\n",
    "time_final = 9.5e-6\n",
    "numSteps = 14\n",
    "numObs = 2*(nx-1)+2*(nx-3)\n",
    "c = 1500"
   ]
  },
  {
   "cell_type": "markdown",
   "metadata": {},
   "source": [
    "# Find Matrix"
   ]
  },
  {
   "cell_type": "code",
   "execution_count": null,
   "metadata": {
    "scrolled": false
   },
   "outputs": [],
   "source": [
    "fwdSolver = PAT_forward(time_final, numSteps, c, V, numObs, nx, True)\n",
    "\n",
    "\n",
    "m = dl.interpolate(dl.Expression('0.5 * exp(-(x[0]-0.5)*(x[0]-0.5)/0.05 -(x[1]-0.5)*(x[1]-0.5)/0.05)', degree=2), V)\n",
    "\n",
    "# Observation data\n",
    "obsData = fwdSolver.Evaluate([m.vector().get_local()])[0]\n",
    "\n",
    "size = obsData.shape[0]\n",
    "\n",
    "I = np.identity(V.dim())\n",
    "\n",
    "K = np.zeros((size,V.dim()))\n",
    "# Multiply forward solver and columns of I to build K Matrix \n",
    "for i in range(V.dim()):\n",
    "    K[:,i] = fwdSolver.Evaluate([I[:,i]])[0]\n",
    "\n",
    "\n",
    "\n",
    "# eig_K = np.linalg.eigvals(K)\n",
    "# eig_K = sorted(eig_K,reverse=True)\n",
    "\n",
    "# normalized_eig_K = eig_K/eig_K[0]\n",
    "\n",
    "# print('The condtiond number of K is ', np.linalg.cond(K))\n",
    "\n",
    "# plt.figure()\n",
    "# plt.semilogy(eig_K )\n",
    "# plt.title('Eigvals')\n",
    "\n",
    "# plt.figure()\n",
    "# plt.semilogy(normalized_eig_K)\n",
    "# plt.title('Normalized Eigvals')\n",
    "\n"
   ]
  },
  {
   "cell_type": "code",
   "execution_count": null,
   "metadata": {},
   "outputs": [],
   "source": [
    "d = np.dot( K , m.vector().get_local())\n",
    "print('The norm of obsData - d is ', np.linalg.norm(d-obsData))"
   ]
  },
  {
   "cell_type": "code",
   "execution_count": null,
   "metadata": {},
   "outputs": [],
   "source": [
    "type(m.vector().get_local())"
   ]
  },
  {
   "cell_type": "code",
   "execution_count": null,
   "metadata": {},
   "outputs": [],
   "source": [
    "d.shape"
   ]
  },
  {
   "cell_type": "code",
   "execution_count": null,
   "metadata": {},
   "outputs": [],
   "source": [
    "K.shape"
   ]
  },
  {
   "cell_type": "code",
   "execution_count": null,
   "metadata": {},
   "outputs": [],
   "source": []
  }
 ],
 "metadata": {
  "kernelspec": {
   "display_name": "Python 3",
   "language": "python",
   "name": "python3"
  },
  "language_info": {
   "codemirror_mode": {
    "name": "ipython",
    "version": 3
   },
   "file_extension": ".py",
   "mimetype": "text/x-python",
   "name": "python",
   "nbconvert_exporter": "python",
   "pygments_lexer": "ipython3",
   "version": "3.5.2"
  }
 },
 "nbformat": 4,
 "nbformat_minor": 2
}

