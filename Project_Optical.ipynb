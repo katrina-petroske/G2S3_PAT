{
 "cells": [
  {
   "cell_type": "code",
   "execution_count": null,
   "metadata": {},
   "outputs": [],
   "source": [
    "from __future__ import absolute_import, division, print_function\n",
    "\n",
    "from hippylib import nb\n",
    "import dolfin as dl\n",
    "import numpy as np\n",
    "import matplotlib.pyplot as plt\n",
    "import sys\n",
    "import pandas as pd\n",
    "%matplotlib inline\n",
    "\n",
    "import logging\n",
    "logging.getLogger('FFC').setLevel(logging.ERROR)\n",
    "logging.getLogger('UFC').setLevel(logging.ERROR)\n",
    "dl.set_log_active(False)\n",
    "\n",
    "sys.path.insert(0,'/home/fenics/Installations/MUQ_INSTALL/lib')\n",
    "from IPython.display import Image\n",
    "\n",
    "# MUQ Includes\n",
    "import pymuqModeling as mm # Needed for Gaussian distribution\n",
    "import pymuqApproximation as ma # Needed for Gaussian processes\n",
    "import pymuqSamplingAlgorithms as ms # Needed for MCMC\n",
    "\n",
    "from Optical_forward import Optical_forward"
   ]
  },
  {
   "cell_type": "markdown",
   "metadata": {},
   "source": [
    "# Hyperparameters"
   ]
  },
  {
   "cell_type": "code",
   "execution_count": null,
   "metadata": {
    "scrolled": false
   },
   "outputs": [],
   "source": [
    "nx = ny = 20\n",
    "mesh = dl.UnitSquareMesh(nx, ny)\n",
    "V = dl.FunctionSpace(mesh, 'Lagrange', 1)\n",
    "\n",
    "#sigma_true = dl.interpolate(dl.Expression('0.3 + 0.2 * sin(4 * pi * x[0]) * sin(4 * pi * x[1])', degree=5),V)\n",
    "sigma_true = dl.interpolate(dl.Expression('0.1 + 0.1*(pow(pow(x[0] - 0.5,2) + pow(x[1] - 0.5,2),0.5) < 0.1)', degree=5),V)\n",
    "#mu_true = dl.interpolate(dl.Expression('0.1 + 0.1*(pow(pow(x[0] - 0.5,2) + pow(x[1] - 0.75,2),0.5) < 0.1) + 0.2*(pow(pow(x[0] - 0.5,2) + pow(x[1] - 0.25,2),0.5) < 0.07)', degree=5),V)\n",
    "gamma = dl.interpolate(dl.Expression('0.03 + 0.01 * sin(2 * pi * x[1])', degree=3), V)\n",
    "Gamma = dl.Constant(\"1.0\")\n",
    "fwdSolver = Optical_forward(V, gamma, Gamma)\n",
    "H = dl.Function(V)\n",
    "nb.plot(sigma_true)\n",
    "plt.title(\"sigma true\")\n",
    "plt.show()\n",
    "\n",
    "# nb.plot(mu_true)\n",
    "# plt.title(\"mu true\")\n",
    "# plt.show()\n",
    "\n",
    "#H.vector().set_local(fwdSolver.Evaluate([sigma_true.vector().get_local(), mu_true.vector().get_local()])[0])\n",
    "H.vector().set_local(fwdSolver.Evaluate([sigma_true.vector().get_local()])[0])"
   ]
  },
  {
   "cell_type": "markdown",
   "metadata": {},
   "source": [
    "# Prior"
   ]
  },
  {
   "cell_type": "code",
   "execution_count": null,
   "metadata": {},
   "outputs": [],
   "source": [
    "xDim=2;\n",
    "yDim=1;\n",
    "\n",
    "var = 1    # Marginal Variance\n",
    "length = 1 # Lengthscale of the kernel\n",
    "nu = 1.0/2.0 # Smoothness parameter\n",
    "\n",
    "mean_sigma = ma.LinearMean(np.zeros((1,xDim)), [0.2])\n",
    "kern_sigma = ma.MaternKernel(xDim, var, length, nu)\n",
    "\n",
    "#mean_mu = ma.LinearMean(np.zeros((1,xDim)), [0.1])\n",
    "#kern_mu = ma.MaternKernel(xDim, var, length, nu)\n",
    "\n",
    "prior_sigma = ma.GaussianProcess(mean_sigma, kern_sigma).Discretize(mesh.coordinates().T).AsDensity()\n",
    "#prior_mu = ma.GaussianProcess(mean_mu, kern_mu).Discretize(mesh.coordinates().T).AsDensity()"
   ]
  },
  {
   "cell_type": "markdown",
   "metadata": {},
   "source": [
    "# Likelihood"
   ]
  },
  {
   "cell_type": "code",
   "execution_count": null,
   "metadata": {},
   "outputs": [],
   "source": [
    "noiseVar = 1e-4\n",
    "noiseCov = noiseVar*np.ones((V.dim()))\n",
    "likelihood = mm.Gaussian(H.vector().get_local(), noiseCov).AsDensity()"
   ]
  },
  {
   "cell_type": "markdown",
   "metadata": {},
   "source": [
    "# Posterior"
   ]
  },
  {
   "cell_type": "code",
   "execution_count": null,
   "metadata": {},
   "outputs": [],
   "source": [
    "#posteriorPiece = mm.DensityProduct(3)\n",
    "posteriorPiece = mm.DensityProduct(2)\n",
    "sigma = mm.IdentityOperator(V.dim())\n",
    "# mu = mm.IdentityOperator(V.dim())"
   ]
  },
  {
   "cell_type": "markdown",
   "metadata": {},
   "source": [
    "# Work Graph"
   ]
  },
  {
   "cell_type": "code",
   "execution_count": null,
   "metadata": {},
   "outputs": [],
   "source": [
    "graph = mm.WorkGraph()\n",
    "\n",
    "# Forward model nodes and edges\n",
    "graph.AddNode(sigma, \"sigma\")\n",
    "# graph.AddNode(mu, \"mu\")\n",
    "#graph.AddNode(obsOperator, \"B\")\n",
    "graph.AddNode(fwdSolver, \"u\")\n",
    "\n",
    "graph.AddEdge(\"sigma\", 0, \"u\", 0)\n",
    "# graph.AddEdge(\"mu\", 0, \"u\", 1)\n",
    "#graph.AddEdge(\"u\", 0, \"B\", 0)\n",
    "\n",
    "# Other nodes and edges\n",
    "graph.AddNode(likelihood, \"Likelihood\")\n",
    "graph.AddNode(prior_sigma, \"Prior Sigma\")\n",
    "#graph.AddNode(prior_mu, \"Prior Mu\")\n",
    "graph.AddNode(posteriorPiece,\"Posterior\")\n",
    "\n",
    "#graph.AddEdge(\"B\", 0, \"Likelihood\", 0)\n",
    "graph.AddEdge(\"u\", 0, \"Likelihood\", 0)\n",
    "graph.AddEdge(\"sigma\", 0, \"Prior Sigma\", 0)\n",
    "#graph.AddEdge(\"mu\", 0, \"Prior Mu\", 0)\n",
    "graph.AddEdge(\"Prior Sigma\",0,\"Posterior\",0)\n",
    "#graph.AddEdge(\"Prior Mu\",0,\"Posterior\",1)\n",
    "graph.AddEdge(\"Likelihood\",0, \"Posterior\",1)"
   ]
  },
  {
   "cell_type": "code",
   "execution_count": null,
   "metadata": {},
   "outputs": [],
   "source": [
    "graph.Visualize(\"PosteriorGraph.png\")\n",
    "Image(filename='PosteriorGraph.png') "
   ]
  },
  {
   "cell_type": "code",
   "execution_count": null,
   "metadata": {},
   "outputs": [],
   "source": [
    "likelihood = graph.CreateModPiece(\"Likelihood\")\n",
    "start_sigma = sigma_true.vector().get_local() #2*np.ones(V.dim())\n",
    "print(\"Likelihood: {}\".format(likelihood.Evaluate([start_sigma])[0]))\n",
    "\n",
    "pr = graph.CreateModPiece(\"Prior Sigma\")\n",
    "print(\"Prior Probability: {}\".format(pr.Evaluate([start_sigma])[0]))\n",
    "\n",
    "post= graph.CreateModPiece(\"Posterior\")\n",
    "print(\"Posterior Probability: {}\".format(post.Evaluate([start_sigma])[0]))\n"
   ]
  },
  {
   "cell_type": "code",
   "execution_count": null,
   "metadata": {},
   "outputs": [],
   "source": [
    "problem = ms.SamplingProblem(graph.CreateModPiece(\"Posterior\"))"
   ]
  },
  {
   "cell_type": "code",
   "execution_count": null,
   "metadata": {},
   "outputs": [],
   "source": [
    "# proposalOptions = dict()\n",
    "# proposalOptions['Method'] = 'MHProposal'\n",
    "# proposalOptions['ProposalVariance'] = 1e-2\n",
    "\n",
    "# Setup pCN sampler\n",
    "proposalOptions = dict()\n",
    "proposalOptions['Method'] = 'CrankNicolsonProposal'\n",
    "proposalOptions['Beta'] = 0.002\n",
    "proposalOptions['PriorNode'] = 'Prior Sigma'\n",
    "\n",
    "kernelOptions = dict()\n",
    "kernelOptions['Method'] = 'MHKernel'\n",
    "kernelOptions['Proposal'] = 'ProposalBlock'\n",
    "kernelOptions['ProposalBlock'] = proposalOptions\n",
    "\n",
    "options = dict()\n",
    "options['NumSamples'] = 15000\n",
    "options['ThinIncrement'] = 1\n",
    "options['BurnIn'] = 100\n",
    "options['KernelList'] = 'Kernel1'\n",
    "options['PrintLevel'] = 3\n",
    "options['Kernel1'] = kernelOptions\n",
    "\n",
    "mcmc = ms.SingleChainMCMC(options,problem)"
   ]
  },
  {
   "cell_type": "code",
   "execution_count": null,
   "metadata": {
    "scrolled": false
   },
   "outputs": [],
   "source": [
    "start_sigma = 0.2*np.ones(V.dim()) #sigma_true.vector().get_local()\n",
    "#start_mu = mu_true.vector().get_local() #0.1*np.ones(V.dim())\n",
    "#samps = mcmc.Run([start_sigma, start_mu])\n",
    "samps = mcmc.Run([start_sigma])"
   ]
  },
  {
   "cell_type": "code",
   "execution_count": null,
   "metadata": {},
   "outputs": [],
   "source": [
    "sampMean = samps.Mean()\n",
    "sampCov = samps.Covariance()\n",
    "sampStd = np.sqrt(np.diag(sampCov))\n",
    "#ess = samps.ESS()\n",
    "#mcErr = np.sqrt( samps.Variance() / ess)\n",
    "\n",
    "nb.plot(sigma_true)\n",
    "plt.title(\"True sigma\")\n",
    "plt.savefig(\"truesigma_optical.png\")\n",
    "plt.show()\n",
    "# nb.plot(mu_true)\n",
    "# plt.title(\"True mu\")\n",
    "# plt.show()\n",
    "\n",
    "sigma_post = dl.Function(V)\n",
    "sigma_post.vector().set_local(sampMean[:V.dim()])\n",
    "nb.plot(sigma_post)\n",
    "plt.title(\"Posterior mean sigma\")\n",
    "plt.savefig(\"sigma_posterior.png\")\n",
    "plt.show()\n",
    "\n",
    "sigma_post_std = dl.Function(V)\n",
    "sigma_post_std.vector().set_local(sampStd)\n",
    "nb.plot(sigma_post_std)\n",
    "plt.title(\"Posterior Std. Deviation\")\n",
    "plt.savefig(\"sigma_post_std.png\")\n",
    "plt.show()\n",
    "\n",
    "# mu_post = dl.Function(V)\n",
    "# mu_post.vector().set_local(sampMean[V.dim():])\n",
    "# nb.plot(mu_post)\n",
    "# plt.title(\"Posterior mean mu\")\n",
    "# plt.show()"
   ]
  },
  {
   "cell_type": "code",
   "execution_count": null,
   "metadata": {},
   "outputs": [],
   "source": [
    "sampMat = samps.AsMatrix()"
   ]
  },
  {
   "cell_type": "code",
   "execution_count": null,
   "metadata": {},
   "outputs": [],
   "source": [
    "plt.figure(figsize=(10,10))\n",
    "plt.plot(sampMat.T[:,:])\n",
    "plt.savefig(\"sigma_mcmc.png\")\n",
    "plt.show()"
   ]
  },
  {
   "cell_type": "code",
   "execution_count": null,
   "metadata": {
    "scrolled": false
   },
   "outputs": [],
   "source": [
    "fig = plt.figure(figsize=(12,6))\n",
    "\n",
    "for i in range(V.dim()):\n",
    "    shiftedSamp = sampMat[i,:]-np.mean(sampMat[i,:])\n",
    "    corr = np.correlate(shiftedSamp, shiftedSamp, mode='full')\n",
    "    plt.plot(corr[int(corr.size/2):]/np.max(corr), label='Dimension %d'%i)\n",
    "    \n",
    "maxLagPlot = 15000\n",
    "plt.plot([-maxLagPlot,0.0],[4.0*maxLagPlot,0.0],'--k', label='Zero')\n",
    "\n",
    "plt.xlim([0,maxLagPlot])\n",
    "plt.ylim([-0.1,1.1])\n",
    "plt.title(\"Autocorrelation of sigma chains\")\n",
    "#plt.legend()\n",
    "plt.savefig(\"autocorr_sigma.png\")\n",
    "plt.show()"
   ]
  },
  {
   "cell_type": "code",
   "execution_count": null,
   "metadata": {},
   "outputs": [],
   "source": []
  }
 ],
 "metadata": {
  "kernelspec": {
   "display_name": "Python 3",
   "language": "python",
   "name": "python3"
  },
  "language_info": {
   "codemirror_mode": {
    "name": "ipython",
    "version": 3
   },
   "file_extension": ".py",
   "mimetype": "text/x-python",
   "name": "python",
   "nbconvert_exporter": "python",
   "pygments_lexer": "ipython3",
   "version": "3.5.2"
  }
 },
 "nbformat": 4,
 "nbformat_minor": 2
}
