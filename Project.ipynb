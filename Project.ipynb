{
 "cells": [
  {
   "cell_type": "code",
   "execution_count": 1,
   "metadata": {
    "scrolled": false
   },
   "outputs": [
    {
     "name": "stderr",
     "output_type": "stream",
     "text": [
      "/usr/lib/python3/dist-packages/dolfin/cpp/la.py:1331: DeprecationWarning: GenericVector.array() is being deprecated, use GenericVector.get_local()\n",
      "  \"use GenericVector.get_local()\", DeprecationWarning)\n",
      "/usr/lib/python3/dist-packages/dolfin/cpp/la.py:1331: DeprecationWarning: GenericVector.array() is being deprecated, use GenericVector.get_local()\n",
      "  \"use GenericVector.get_local()\", DeprecationWarning)\n"
     ]
    },
    {
     "data": {
      "text/plain": [
       "<matplotlib.figure.Figure at 0x7fc66e3b3fd0>"
      ]
     },
     "metadata": {},
     "output_type": "display_data"
    }
   ],
   "source": [
    "from __future__ import absolute_import, division, print_function\n",
    "\n",
    "from hippylib import nb\n",
    "import dolfin as dl\n",
    "import math\n",
    "import numpy as np\n",
    "import matplotlib.pyplot as plt\n",
    "import sys\n",
    "import os\n",
    "\n",
    "import logging\n",
    "logging.getLogger('FFC').setLevel(logging.ERROR)\n",
    "logging.getLogger('UFC').setLevel(logging.ERROR)\n",
    "dl.set_log_active(False)\n",
    "\n",
    "sys.path.insert(0,'/home/fenics/Installations/MUQ_INSTALL/lib')\n",
    "from IPython.display import Image\n",
    "import pandas as pd\n",
    "\n",
    "\n",
    "# MUQ Includes\n",
    "import pymuqModeling as mm # Needed for Gaussian distribution\n",
    "import pymuqApproximation as ma # Needed for Gaussian processes\n",
    "import pymuqSamplingAlgorithms as ms # Needed for MCMC\n",
    "\n",
    "nx = ny = 10\n",
    "mesh = dl.RectangleMesh(dl.Point(0, 0),dl.Point(1,1),nx,ny,\"right\")\n",
    "V = dl.FunctionSpace(mesh, 'P', 1)\n",
    "\n",
    "class PAT_forward(mm.PyModPiece):\n",
    "    \n",
    "    def __init__(self, time_final, numSteps, c, V):\n",
    "        \"\"\" \n",
    "        INPUTS:\n",
    "        \n",
    "        \"\"\"\n",
    "        mm.PyModPiece.__init__(self, [V.dim()],\n",
    "                                [V.dim()])\n",
    "                  \n",
    "        self.T_f = time_final\n",
    "        self.numSteps = numSteps\n",
    "        self.dt = self.T_f / self.numSteps\n",
    "        self.c = c\n",
    "        self.V = V\n",
    "        \n",
    "        self.p_trial = dl.TrialFunction(self.V)\n",
    "        self.v = dl.TestFunction(self.V)\n",
    "            \n",
    "    def EvaluateImpl(self, inputs):\n",
    "        \"\"\"\n",
    "        \n",
    "        \"\"\"\n",
    "        m = dl.Function(self.V)\n",
    "        m.vector().set_local(inputs[0])\n",
    "        \n",
    "        p_n = dl.interpolate(m, self.V)\n",
    "        p_nm1 = dl.interpolate(m, self.V)\n",
    "        p_trial = self.p_trial\n",
    "        v = self.v\n",
    "        \n",
    "        F = (self.c**2)*(self.dt**2)*dl.inner(dl.grad(p_trial), dl.grad(v))*dl.dx - 2.*p_n*v*dl.dx + p_trial*v*dl.dx + p_nm1*v*dl.dx \n",
    "        a, L = dl.lhs(F), dl.rhs(F)\n",
    "        \n",
    "        # Time-stepping\n",
    "        p = dl.Function(self.V)\n",
    "        t = 0\n",
    "        for n in range(self.numSteps):\n",
    "            # Update current timtime\n",
    "            t += self.dt\n",
    "\n",
    "            # Compute solution\n",
    "            dl.solve(a == L, p)\n",
    "\n",
    "            # Update previous solution\n",
    "            p_nm1.assign(p_n)\n",
    "            p_n.assign(p)\n",
    "\n",
    "        out = p.vector().array()[:]\n",
    "        \n",
    "        self.outputs = [out]\n",
    "\n",
    "time_final = 0.05\n",
    "numSteps = 1000\n",
    "c = 1.5\n",
    "test = PAT_forward(time_final, numSteps, c, V)\n",
    "m = dl.interpolate(dl.Expression('std::log( 8. - 4.*(pow(x[0] - .5,2) + pow(x[1] - .5,2) < pow(0.2,2) ) )', degree=5), V)\n",
    "obsData = test.Evaluate([m.vector().array()[:]])   \n",
    "\n",
    "m = dl.Function(V)\n",
    "m.vector().set_local(obsData[0])\n",
    "nb.plot(m)\n",
    "plt.show()"
   ]
  },
  {
   "cell_type": "code",
   "execution_count": 2,
   "metadata": {
    "scrolled": true
   },
   "outputs": [
    {
     "name": "stderr",
     "output_type": "stream",
     "text": [
      "/usr/lib/python3/dist-packages/dolfin/cpp/la.py:1331: DeprecationWarning: GenericVector.array() is being deprecated, use GenericVector.get_local()\n",
      "  \"use GenericVector.get_local()\", DeprecationWarning)\n",
      "/usr/lib/python3/dist-packages/dolfin/cpp/la.py:1331: DeprecationWarning: GenericVector.array() is being deprecated, use GenericVector.get_local()\n",
      "  \"use GenericVector.get_local()\", DeprecationWarning)\n",
      "/usr/lib/python3/dist-packages/dolfin/cpp/la.py:1331: DeprecationWarning: GenericVector.array() is being deprecated, use GenericVector.get_local()\n",
      "  \"use GenericVector.get_local()\", DeprecationWarning)\n"
     ]
    }
   ],
   "source": [
    "fwdSolver = PAT_forward(time_final, numSteps, c, V)\n",
    "\n",
    "# Prior\n",
    "m = dl.interpolate(dl.Expression('std::log( 8. - 4.*(pow(x[0] - .5,2) + pow(x[1] - .5,2) < pow(0.2,2) ) )', degree=5), V)\n",
    "#logPriorMu = 2*np.ones(V.dim())\n",
    "logPriorMu = m.vector().array()[:]\n",
    "logPriorCov = 0.02*np.eye(V.dim())\n",
    "logPrior = mm.Gaussian(logPriorMu, logPriorCov).AsDensity()\n",
    "\n",
    "# Data      \n",
    "time_final = 0.05\n",
    "numSteps = 100\n",
    "c = 1.5\n",
    "test = PAT_forward(time_final, numSteps, c, V)\n",
    "m = dl.interpolate(dl.Expression('std::log( 8. - 4.*(pow(x[0] - .5,2) + pow(x[1] - .5,2) < pow(0.2,2) ) )', degree=5), V)\n",
    "obsData = test.Evaluate([m.vector().array()[:]])[0]   \n"
   ]
  },
  {
   "cell_type": "markdown",
   "metadata": {},
   "source": [
    "# Likelihood"
   ]
  },
  {
   "cell_type": "code",
   "execution_count": 3,
   "metadata": {
    "scrolled": true
   },
   "outputs": [],
   "source": [
    "noiseVar = 1e-4\n",
    "noiseCov = noiseVar*np.eye(obsData.shape[0])\n",
    "likelihood = mm.Gaussian(obsData, noiseCov).AsDensity()"
   ]
  },
  {
   "cell_type": "markdown",
   "metadata": {},
   "source": [
    "# Posterior"
   ]
  },
  {
   "cell_type": "code",
   "execution_count": 4,
   "metadata": {
    "scrolled": true
   },
   "outputs": [],
   "source": [
    "posteriorPiece = mm.DensityProduct(2)\n",
    "p_0 = mm.IdentityOperator(V.dim())"
   ]
  },
  {
   "cell_type": "code",
   "execution_count": 5,
   "metadata": {
    "scrolled": true
   },
   "outputs": [],
   "source": [
    "graph = mm.WorkGraph()\n",
    "\n",
    "# Forward model nodes and edges\n",
    "graph.AddNode(p_0, \"p_0\")\n",
    "#graph.AddNode(obsOperator, \"B\")\n",
    "graph.AddNode(fwdSolver, \"u\")\n",
    "\n",
    "graph.AddEdge(\"p_0\", 0, \"u\", 0)\n",
    "#graph.AddEdge(\"u\", 0, \"B\", 0)\n",
    "\n",
    "# Other nodes and edges\n",
    "graph.AddNode(likelihood, \"Likelihood\")\n",
    "graph.AddNode(logPrior, \"Prior\")\n",
    "graph.AddNode(posteriorPiece,\"Posterior\")\n",
    "\n",
    "#graph.AddEdge(\"B\", 0, \"Likelihood\", 0)\n",
    "graph.AddEdge(\"u\", 0, \"Likelihood\", 0)\n",
    "graph.AddEdge(\"p_0\", 0, \"Prior\", 0)\n",
    "graph.AddEdge(\"Prior\",0,\"Posterior\",0)\n",
    "graph.AddEdge(\"Likelihood\",0, \"Posterior\",1)"
   ]
  },
  {
   "cell_type": "code",
   "execution_count": 6,
   "metadata": {
    "scrolled": true
   },
   "outputs": [
    {
     "data": {
      "image/png": "[encoded data removed]",
      "text/plain": [
       "<IPython.core.display.Image object>"
      ]
     },
     "execution_count": 6,
     "metadata": {},
     "output_type": "execute_result"
    }
   ],
   "source": [
    "graph.Visualize(\"PosteriorGraph.png\")\n",
    "Image(filename='PosteriorGraph.png') "
   ]
  },
  {
   "cell_type": "code",
   "execution_count": 7,
   "metadata": {
    "scrolled": true
   },
   "outputs": [],
   "source": [
    "problem = ms.SamplingProblem(graph.CreateModPiece(\"Posterior\"))"
   ]
  },
  {
   "cell_type": "code",
   "execution_count": 8,
   "metadata": {
    "scrolled": true
   },
   "outputs": [],
   "source": [
    "proposalOptions = dict()\n",
    "proposalOptions['Method'] = 'AMProposal'\n",
    "proposalOptions['ProposalVariance'] = 1e-2\n",
    "proposalOptions['AdaptSteps'] = 100\n",
    "proposalOptions['AdaptStart'] = 1000\n",
    "proposalOptions['AdaptScale'] = 0.1\n",
    "\n",
    "kernelOptions = dict()\n",
    "kernelOptions['Method'] = 'MHKernel'\n",
    "kernelOptions['Proposal'] = 'ProposalBlock'\n",
    "kernelOptions['ProposalBlock'] = proposalOptions\n",
    "\n",
    "options = dict()\n",
    "options['NumSamples'] = 10\n",
    "options['ThinIncrement'] = 1\n",
    "options['BurnIn'] = 1\n",
    "options['KernelList'] = 'Kernel1'\n",
    "options['PrintLevel'] = 3\n",
    "options['Kernel1'] = kernelOptions\n",
    "\n",
    "mcmc = ms.SingleChainMCMC(options,problem)"
   ]
  },
  {
   "cell_type": "code",
   "execution_count": 9,
   "metadata": {
    "scrolled": false
   },
   "outputs": [
    {
     "name": "stdout",
     "output_type": "stream",
     "text": [
      "Starting single chain MCMC sampler...\n",
      "  10% Complete\n"
     ]
    },
    {
     "name": "stderr",
     "output_type": "stream",
     "text": [
      "/usr/lib/python3/dist-packages/dolfin/cpp/la.py:1331: DeprecationWarning: GenericVector.array() is being deprecated, use GenericVector.get_local()\n",
      "  \"use GenericVector.get_local()\", DeprecationWarning)\n",
      "/usr/lib/python3/dist-packages/dolfin/cpp/la.py:1331: DeprecationWarning: GenericVector.array() is being deprecated, use GenericVector.get_local()\n",
      "  \"use GenericVector.get_local()\", DeprecationWarning)\n"
     ]
    },
    {
     "name": "stdout",
     "output_type": "stream",
     "text": [
      "    Block 0:\n",
      "      Acceptance Rate = 0%\n",
      "  20% Complete\n",
      "    Block 0:\n",
      "      Acceptance Rate = 0%\n"
     ]
    },
    {
     "name": "stderr",
     "output_type": "stream",
     "text": [
      "/usr/lib/python3/dist-packages/dolfin/cpp/la.py:1331: DeprecationWarning: GenericVector.array() is being deprecated, use GenericVector.get_local()\n",
      "  \"use GenericVector.get_local()\", DeprecationWarning)\n"
     ]
    },
    {
     "name": "stdout",
     "output_type": "stream",
     "text": [
      "  30% Complete\n",
      "    Block 0:\n",
      "      Acceptance Rate = 0%\n",
      "  40% Complete\n",
      "    Block 0:\n",
      "      Acceptance Rate = 0%\n"
     ]
    },
    {
     "name": "stderr",
     "output_type": "stream",
     "text": [
      "/usr/lib/python3/dist-packages/dolfin/cpp/la.py:1331: DeprecationWarning: GenericVector.array() is being deprecated, use GenericVector.get_local()\n",
      "  \"use GenericVector.get_local()\", DeprecationWarning)\n",
      "/usr/lib/python3/dist-packages/dolfin/cpp/la.py:1331: DeprecationWarning: GenericVector.array() is being deprecated, use GenericVector.get_local()\n",
      "  \"use GenericVector.get_local()\", DeprecationWarning)\n"
     ]
    },
    {
     "name": "stdout",
     "output_type": "stream",
     "text": [
      "  50% Complete\n",
      "    Block 0:\n",
      "      Acceptance Rate = 0%\n",
      "  60% Complete\n",
      "    Block 0:\n",
      "      Acceptance Rate = 0%\n"
     ]
    },
    {
     "name": "stderr",
     "output_type": "stream",
     "text": [
      "/usr/lib/python3/dist-packages/dolfin/cpp/la.py:1331: DeprecationWarning: GenericVector.array() is being deprecated, use GenericVector.get_local()\n",
      "  \"use GenericVector.get_local()\", DeprecationWarning)\n",
      "/usr/lib/python3/dist-packages/dolfin/cpp/la.py:1331: DeprecationWarning: GenericVector.array() is being deprecated, use GenericVector.get_local()\n",
      "  \"use GenericVector.get_local()\", DeprecationWarning)\n"
     ]
    },
    {
     "name": "stdout",
     "output_type": "stream",
     "text": [
      "  70% Complete\n",
      "    Block 0:\n",
      "      Acceptance Rate = 0%\n",
      "  80% Complete\n",
      "    Block 0:\n",
      "      Acceptance Rate = 0%\n"
     ]
    },
    {
     "name": "stderr",
     "output_type": "stream",
     "text": [
      "/usr/lib/python3/dist-packages/dolfin/cpp/la.py:1331: DeprecationWarning: GenericVector.array() is being deprecated, use GenericVector.get_local()\n",
      "  \"use GenericVector.get_local()\", DeprecationWarning)\n",
      "/usr/lib/python3/dist-packages/dolfin/cpp/la.py:1331: DeprecationWarning: GenericVector.array() is being deprecated, use GenericVector.get_local()\n",
      "  \"use GenericVector.get_local()\", DeprecationWarning)\n"
     ]
    },
    {
     "name": "stdout",
     "output_type": "stream",
     "text": [
      "  100% Complete\n",
      "    Block 0:\n",
      "      Acceptance Rate = 0%\n",
      "Completed in 33.8498 seconds.\n"
     ]
    },
    {
     "name": "stderr",
     "output_type": "stream",
     "text": [
      "/usr/lib/python3/dist-packages/dolfin/cpp/la.py:1331: DeprecationWarning: GenericVector.array() is being deprecated, use GenericVector.get_local()\n",
      "  \"use GenericVector.get_local()\", DeprecationWarning)\n"
     ]
    }
   ],
   "source": [
    "startPt = np.log(8.0) * np.ones((V.dim()))\n",
    "samps = mcmc.Run(startPt)"
   ]
  },
  {
   "cell_type": "code",
   "execution_count": 10,
   "metadata": {
    "scrolled": true
   },
   "outputs": [
    {
     "name": "stdout",
     "output_type": "stream",
     "text": [
      "Effective Sample Size = \n",
      " [-9. -9. -9. -9. -9. -9. -9. -9. -9. -9. -9. -9. -9. -9. -9. -9. -9. -9.\n",
      " -9. -9. -9. -9. -9. -9. -9. -9. -9. -9. -9. -9. -9. -9. -9. -9. -9. -9.\n",
      " -9. -9. -9. -9. -9. -9. -9. -9. -9. -9. -9. -9. -9. -9. -9. -9. -9. -9.\n",
      " -9. -9. -9. -9. -9. -9. -9. -9. -9. -9. -9. -9. -9. -9. -9. -9. -9. -9.\n",
      " -9. -9. -9. -9. -9. -9. -9. -9. -9. -9. -9. -9. -9. -9. -9. -9. -9. -9.\n",
      " -9. -9. -9. -9. -9. -9. -9. -9. -9. -9. -9. -9. -9. -9. -9. -9. -9. -9.\n",
      " -9. -9. -9. -9. -9. -9. -9. -9. -9. -9. -9. -9. -9.]\n",
      "\n",
      "Sample mean = \n",
      " [ 2.07944154  2.07944154  2.07944154  2.07944154  2.07944154  2.07944154\n",
      "  2.07944154  2.07944154  2.07944154  2.07944154  2.07944154  2.07944154\n",
      "  2.07944154  2.07944154  2.07944154  2.07944154  2.07944154  2.07944154\n",
      "  2.07944154  2.07944154  2.07944154  2.07944154  2.07944154  2.07944154\n",
      "  2.07944154  2.07944154  2.07944154  2.07944154  2.07944154  2.07944154\n",
      "  2.07944154  2.07944154  2.07944154  2.07944154  2.07944154  2.07944154\n",
      "  2.07944154  2.07944154  2.07944154  2.07944154  2.07944154  2.07944154\n",
      "  2.07944154  2.07944154  2.07944154  2.07944154  2.07944154  2.07944154\n",
      "  2.07944154  2.07944154  2.07944154  2.07944154  2.07944154  2.07944154\n",
      "  2.07944154  2.07944154  2.07944154  2.07944154  2.07944154  2.07944154\n",
      "  2.07944154  2.07944154  2.07944154  2.07944154  2.07944154  2.07944154\n",
      "  2.07944154  2.07944154  2.07944154  2.07944154  2.07944154  2.07944154\n",
      "  2.07944154  2.07944154  2.07944154  2.07944154  2.07944154  2.07944154\n",
      "  2.07944154  2.07944154  2.07944154  2.07944154  2.07944154  2.07944154\n",
      "  2.07944154  2.07944154  2.07944154  2.07944154  2.07944154  2.07944154\n",
      "  2.07944154  2.07944154  2.07944154  2.07944154  2.07944154  2.07944154\n",
      "  2.07944154  2.07944154  2.07944154  2.07944154  2.07944154  2.07944154\n",
      "  2.07944154  2.07944154  2.07944154  2.07944154  2.07944154  2.07944154\n",
      "  2.07944154  2.07944154  2.07944154  2.07944154  2.07944154  2.07944154\n",
      "  2.07944154  2.07944154  2.07944154  2.07944154  2.07944154  2.07944154\n",
      "  2.07944154]\n",
      "\n",
      "Sample Covariance = \n",
      " [[ 0.  0.  0. ...,  0.  0.  0.]\n",
      " [ 0.  0.  0. ...,  0.  0.  0.]\n",
      " [ 0.  0.  0. ...,  0.  0.  0.]\n",
      " ..., \n",
      " [ 0.  0.  0. ...,  0.  0.  0.]\n",
      " [ 0.  0.  0. ...,  0.  0.  0.]\n",
      " [ 0.  0.  0. ...,  0.  0.  0.]]\n",
      "\n",
      "Estimated MC error in mean = \n",
      " [-0. -0. -0. -0. -0. -0. -0. -0. -0. -0. -0. -0. -0. -0. -0. -0. -0. -0.\n",
      " -0. -0. -0. -0. -0. -0. -0. -0. -0. -0. -0. -0. -0. -0. -0. -0. -0. -0.\n",
      " -0. -0. -0. -0. -0. -0. -0. -0. -0. -0. -0. -0. -0. -0. -0. -0. -0. -0.\n",
      " -0. -0. -0. -0. -0. -0. -0. -0. -0. -0. -0. -0. -0. -0. -0. -0. -0. -0.\n",
      " -0. -0. -0. -0. -0. -0. -0. -0. -0. -0. -0. -0. -0. -0. -0. -0. -0. -0.\n",
      " -0. -0. -0. -0. -0. -0. -0. -0. -0. -0. -0. -0. -0. -0. -0. -0. -0. -0.\n",
      " -0. -0. -0. -0. -0. -0. -0. -0. -0. -0. -0. -0. -0.]\n"
     ]
    }
   ],
   "source": [
    "ess = samps.ESS()\n",
    "print('Effective Sample Size = \\n', ess)\n",
    "\n",
    "sampMean = samps.Mean()\n",
    "print('\\nSample mean = \\n', sampMean)\n",
    "\n",
    "sampCov = samps.Covariance()\n",
    "print('\\nSample Covariance = \\n', sampCov)\n",
    "\n",
    "mcErr = np.sqrt( samps.Variance() / ess)\n",
    "print('\\nEstimated MC error in mean = \\n', mcErr)"
   ]
  },
  {
   "cell_type": "code",
   "execution_count": null,
   "metadata": {},
   "outputs": [],
   "source": []
  }
 ],
 "metadata": {
  "kernelspec": {
   "display_name": "Python 3",
   "language": "python",
   "name": "python3"
  },
  "language_info": {
   "codemirror_mode": {
    "name": "ipython",
    "version": 3
   },
   "file_extension": ".py",
   "mimetype": "text/x-python",
   "name": "python",
   "nbconvert_exporter": "python",
   "pygments_lexer": "ipython3",
   "version": "3.5.2"
  }
 },
 "nbformat": 4,
 "nbformat_minor": 2
}
