{
 "cells": [
  {
   "cell_type": "code",
   "execution_count": null,
   "metadata": {
    "scrolled": true
   },
   "outputs": [],
   "source": [
    "from __future__ import absolute_import, division, print_function\n",
    "\n",
    "from hippylib import nb\n",
    "import dolfin as dl\n",
    "import numpy as np\n",
    "import matplotlib.pyplot as plt\n",
    "import sys\n",
    "import pandas as pd\n",
    "%matplotlib inline\n",
    "\n",
    "import logging\n",
    "logging.getLogger('FFC').setLevel(logging.ERROR)\n",
    "logging.getLogger('UFC').setLevel(logging.ERROR)\n",
    "dl.set_log_active(False)\n",
    "\n",
    "sys.path.insert(0,'/home/fenics/Installations/MUQ_INSTALL/lib')\n",
    "from IPython.display import Image\n",
    "\n",
    "# MUQ Includes\n",
    "import pymuqModeling as mm # Needed for Gaussian distribution\n",
    "import pymuqApproximation as ma # Needed for Gaussian processes\n",
    "import pymuqSamplingAlgorithms as ms # Needed for MCMC"
   ]
  },
  {
   "cell_type": "code",
   "execution_count": null,
   "metadata": {
    "scrolled": true
   },
   "outputs": [],
   "source": [
    "nx = ny = 10\n",
    "mesh = dl.RectangleMesh(dl.Point(0, 0),dl.Point(1,1),nx,ny,\"right\")\n",
    "V = dl.FunctionSpace(mesh, 'P', 1)\n",
    "time_final = 0.05\n",
    "numSteps = 100\n",
    "c = 1.5"
   ]
  },
  {
   "cell_type": "code",
   "execution_count": null,
   "metadata": {
    "scrolled": true
   },
   "outputs": [],
   "source": [
    "class PAT_forward(mm.PyModPiece):\n",
    "    \n",
    "    def __init__(self, time_final, numSteps, c, V):\n",
    "        \"\"\" \n",
    "        INPUTS:\n",
    "        \n",
    "        \n",
    "        \"\"\"\n",
    "        mm.PyModPiece.__init__(self, [V.dim()],[V.dim()])\n",
    "                  \n",
    "        self.T_f = time_final\n",
    "        self.numSteps = numSteps\n",
    "        self.dt = self.T_f / self.numSteps\n",
    "        self.c = c\n",
    "        self.V = V\n",
    "        \n",
    "        self.p_trial = dl.TrialFunction(self.V)\n",
    "        self.v = dl.TestFunction(self.V)\n",
    "            \n",
    "    def EvaluateImpl(self, inputs):\n",
    "        \"\"\"\n",
    "        \n",
    "        \"\"\"\n",
    "        m = dl.Function(self.V)\n",
    "        m.vector().set_local(inputs[0])\n",
    "        \n",
    "        p_n = dl.interpolate(m, self.V)\n",
    "        p_nm1 = dl.interpolate(m, self.V)\n",
    "        p_trial = self.p_trial\n",
    "        v = self.v\n",
    "        \n",
    "        F = (self.c**2)*(self.dt**2)*dl.inner(dl.grad(p_trial), dl.grad(v))*dl.dx - 2.*p_n*v*dl.dx + p_trial*v*dl.dx + p_nm1*v*dl.dx \n",
    "        a, L = dl.lhs(F), dl.rhs(F)\n",
    "        \n",
    "        # Time-stepping\n",
    "        p = dl.Function(self.V)\n",
    "        t = 0\n",
    "        \n",
    "        for n in range(self.numSteps):\n",
    "            # Update current timtime\n",
    "            t += self.dt\n",
    "\n",
    "            # Compute solution\n",
    "            dl.solve(a == L, p)\n",
    "\n",
    "            # Update previous solution\n",
    "            p_nm1.assign(p_n)\n",
    "            p_n.assign(p)           \n",
    "        \n",
    "        self.outputs = [p.vector().get_local()]"
   ]
  },
  {
   "cell_type": "code",
   "execution_count": null,
   "metadata": {
    "scrolled": false
   },
   "outputs": [],
   "source": [
    "fwdSolver = PAT_forward(time_final, numSteps, c, V)\n",
    "\n",
    "# Prior\n",
    "m = dl.interpolate(dl.Expression('exp(-(x[0]-0.5)*(x[0]-0.5) -(x[1]-0.5)*(x[1]-0.5))', degree=2), V)\n",
    "logPriorMu = m.vector().get_local()\n",
    "logPriorCov = 0.02*np.eye(V.dim())\n",
    "logPrior = mm.Gaussian(logPriorMu, logPriorCov).AsDensity()\n",
    "  \n",
    "# Observation data\n",
    "obsData = fwdSolver.Evaluate([m.vector().get_local()])[0]"
   ]
  },
  {
   "cell_type": "markdown",
   "metadata": {},
   "source": [
    "# Likelihood"
   ]
  },
  {
   "cell_type": "code",
   "execution_count": null,
   "metadata": {
    "scrolled": false
   },
   "outputs": [],
   "source": [
    "noiseVar = 1e-4\n",
    "noiseCov = noiseVar*np.eye(obsData.shape[0])\n",
    "likelihood = mm.Gaussian(obsData, noiseCov).AsDensity()"
   ]
  },
  {
   "cell_type": "markdown",
   "metadata": {},
   "source": [
    "# Posterior"
   ]
  },
  {
   "cell_type": "code",
   "execution_count": null,
   "metadata": {
    "scrolled": false
   },
   "outputs": [],
   "source": [
    "posteriorPiece = mm.DensityProduct(2)\n",
    "p_0 = mm.IdentityOperator(V.dim())"
   ]
  },
  {
   "cell_type": "code",
   "execution_count": null,
   "metadata": {
    "scrolled": false
   },
   "outputs": [],
   "source": [
    "graph = mm.WorkGraph()\n",
    "\n",
    "# Forward model nodes and edges\n",
    "graph.AddNode(p_0, \"p_0\")\n",
    "#graph.AddNode(obsOperator, \"B\")\n",
    "graph.AddNode(fwdSolver, \"u\")\n",
    "\n",
    "graph.AddEdge(\"p_0\", 0, \"u\", 0)\n",
    "#graph.AddEdge(\"u\", 0, \"B\", 0)\n",
    "\n",
    "# Other nodes and edges\n",
    "graph.AddNode(likelihood, \"Likelihood\")\n",
    "graph.AddNode(logPrior, \"Prior\")\n",
    "graph.AddNode(posteriorPiece,\"Posterior\")\n",
    "\n",
    "#graph.AddEdge(\"B\", 0, \"Likelihood\", 0)\n",
    "graph.AddEdge(\"u\", 0, \"Likelihood\", 0)\n",
    "graph.AddEdge(\"p_0\", 0, \"Prior\", 0)\n",
    "graph.AddEdge(\"Prior\",0,\"Posterior\",0)\n",
    "graph.AddEdge(\"Likelihood\",0, \"Posterior\",1)"
   ]
  },
  {
   "cell_type": "code",
   "execution_count": null,
   "metadata": {
    "scrolled": false
   },
   "outputs": [],
   "source": [
    "graph.Visualize(\"PosteriorGraph.png\")\n",
    "Image(filename='PosteriorGraph.png') "
   ]
  },
  {
   "cell_type": "code",
   "execution_count": null,
   "metadata": {
    "scrolled": false
   },
   "outputs": [],
   "source": [
    "problem = ms.SamplingProblem(graph.CreateModPiece(\"Posterior\"))"
   ]
  },
  {
   "cell_type": "code",
   "execution_count": null,
   "metadata": {
    "scrolled": false
   },
   "outputs": [],
   "source": [
    "proposalOptions = dict()\n",
    "proposalOptions['Method'] = 'AMProposal'\n",
    "proposalOptions['ProposalVariance'] = 1e-1\n",
    "proposalOptions['AdaptSteps'] = 100\n",
    "proposalOptions['AdaptStart'] = 1000\n",
    "proposalOptions['AdaptScale'] = 0.1\n",
    "\n",
    "kernelOptions = dict()\n",
    "kernelOptions['Method'] = 'MHKernel'\n",
    "kernelOptions['Proposal'] = 'ProposalBlock'\n",
    "kernelOptions['ProposalBlock'] = proposalOptions\n",
    "\n",
    "options = dict()\n",
    "options['NumSamples'] = 2000\n",
    "options['ThinIncrement'] = 1\n",
    "options['BurnIn'] = 1\n",
    "options['KernelList'] = 'Kernel1'\n",
    "options['PrintLevel'] = 3\n",
    "options['Kernel1'] = kernelOptions\n",
    "\n",
    "mcmc = ms.SingleChainMCMC(options,problem)"
   ]
  },
  {
   "cell_type": "code",
   "execution_count": null,
   "metadata": {
    "scrolled": true
   },
   "outputs": [],
   "source": [
    "startPt = np.log(8.0) * np.ones((V.dim()))\n",
    "samps = mcmc.Run(startPt)"
   ]
  },
  {
   "cell_type": "code",
   "execution_count": null,
   "metadata": {
    "scrolled": true
   },
   "outputs": [],
   "source": [
    "ess = samps.ESS()\n",
    "print('Effective Sample Size = \\n', ess)\n",
    "\n",
    "sampMean = samps.Mean()\n",
    "print('\\nSample mean = \\n', sampMean)\n",
    "\n",
    "sampCov = samps.Covariance()\n",
    "print('\\nSample Covariance = \\n', sampCov)\n",
    "\n",
    "mcErr = np.sqrt( samps.Variance() / ess)\n",
    "print('\\nEstimated MC error in mean = \\n', mcErr)\n",
    "\n",
    "m = dl.Function(V)\n",
    "m.vector().set_local(sampMean)\n",
    "nb.plot(m)\n",
    "plt.show()\n",
    " \n",
    "obsFunc = dl.Function(V)\n",
    "obsFunc.vector().set_local(obsData)\n",
    "nb.plot(obsFunc)\n",
    "plt.show()"
   ]
  },
  {
   "cell_type": "code",
   "execution_count": null,
   "metadata": {
    "scrolled": true
   },
   "outputs": [],
   "source": [
    "sampMat = samps.AsMatrix()"
   ]
  },
  {
   "cell_type": "code",
   "execution_count": null,
   "metadata": {
    "scrolled": true
   },
   "outputs": [],
   "source": [
    "plt.plot(sampMat.T)\n",
    "plt.show()"
   ]
  },
  {
   "cell_type": "markdown",
   "metadata": {},
   "source": [
    "# Plot samples of the posterior predictive"
   ]
  },
  {
   "cell_type": "code",
   "execution_count": null,
   "metadata": {
    "scrolled": true
   },
   "outputs": [],
   "source": [
    "#predSamps = np.zeros((numPts, sampMat.shape[1]))\n",
    "\n",
    "#predModel = graph.CreateModPiece(\"u\")\n",
    "\n",
    "#for i in range(sampMat.shape[1]):\n",
    "#    predSamps[:,i] = predModel.Evaluate([ sampMat[:,i] ])[0]"
   ]
  }
 ],
 "metadata": {
  "kernelspec": {
   "display_name": "Python 3",
   "language": "python",
   "name": "python3"
  },
  "language_info": {
   "codemirror_mode": {
    "name": "ipython",
    "version": 3
   },
   "file_extension": ".py",
   "mimetype": "text/x-python",
   "name": "python",
   "nbconvert_exporter": "python",
   "pygments_lexer": "ipython3",
   "version": "3.5.2"
  }
 },
 "nbformat": 4,
 "nbformat_minor": 2
}
