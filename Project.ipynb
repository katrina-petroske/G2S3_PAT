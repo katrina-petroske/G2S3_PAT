{
 "cells": [
  {
   "cell_type": "code",
   "execution_count": null,
   "metadata": {
    "scrolled": true
   },
   "outputs": [],
   "source": [
    "from __future__ import absolute_import, division, print_function\n",
    "\n",
    "from hippylib import nb\n",
    "import dolfin as dl\n",
    "import numpy as np\n",
    "import matplotlib.pyplot as plt\n",
    "import sys\n",
    "import pandas as pd\n",
    "%matplotlib inline\n",
    "\n",
    "import logging\n",
    "logging.getLogger('FFC').setLevel(logging.ERROR)\n",
    "logging.getLogger('UFC').setLevel(logging.ERROR)\n",
    "dl.set_log_active(False)\n",
    "\n",
    "sys.path.insert(0,'/home/fenics/Installations/MUQ_INSTALL/lib')\n",
    "from IPython.display import Image\n",
    "\n",
    "# MUQ Includes\n",
    "import pymuqModeling as mm # Needed for Gaussian distribution\n",
    "import pymuqApproximation as ma # Needed for Gaussian processes\n",
    "import pymuqSamplingAlgorithms as ms # Needed for MCMC\n",
    "\n",
    "from PAT_forward import PAT_forward"
   ]
  },
  {
   "cell_type": "markdown",
   "metadata": {},
   "source": [
    "# Hyperparameters"
   ]
  },
  {
   "cell_type": "code",
<<<<<<< HEAD
   "execution_count": 4,
=======
   "execution_count": null,
>>>>>>> 3783682314a1dadd03a0ebbbebf8468e9081e48f
   "metadata": {
    "scrolled": true
   },
   "outputs": [],
   "source": [
    "nx = ny = 10\n",
    "mesh = dl.RectangleMesh(dl.Point(0, 0),dl.Point(1,1),nx,ny,\"right\")\n",
    "V = dl.FunctionSpace(mesh, 'P', 1)\n",
    "time_final = 1.0\n",
    "numSteps = 100\n",
    "numObs = 10\n",
    "c = 1500"
   ]
  },
  {
   "cell_type": "markdown",
   "metadata": {},
   "source": [
    "# Synthetic Data "
   ]
  },
  {
   "cell_type": "code",
<<<<<<< HEAD
   "execution_count": 5,
   "metadata": {},
=======
   "execution_count": null,
   "metadata": {
    "scrolled": false
   },
>>>>>>> 3783682314a1dadd03a0ebbbebf8468e9081e48f
   "outputs": [],
   "source": [
    "fwdSolver = PAT_forward(time_final, numSteps, c, V, numObs)\n",
    "\n",
    "# Prior\n",
    "m = dl.interpolate(dl.Expression('0.5 * exp(-(x[0]-0.5)*(x[0]-0.5)/0.05 -(x[1]-0.5)*(x[1]-0.5)/0.05)', degree=2), V)\n",
    "#logPriorMu = m.vector().get_local()\n",
    "#logPriorCov = 0.02*np.eye(V.dim())\n",
    "#logPrior = mm.Gaussian(logPriorMu, logPriorCov).AsDensity()\n",
    "\n",
    "# Observation data\n",
    "obsData = fwdSolver.Evaluate([m.vector().get_local()])[0]"
   ]
  },
  {
   "cell_type": "code",
   "execution_count": 8,
   "metadata": {
    "scrolled": false
   },
   "outputs": [
    {
     "data": {
      "image/png": "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\n",
      "text/plain": [
       "<matplotlib.figure.Figure at 0x7f271ccdb6d8>"
      ]
     },
     "metadata": {},
     "output_type": "display_data"
    }
   ],
   "source": [
    "# plot true parameter and observed data\n",
    "plt.plot(obsData[0::numObs])\n",
    "plt.show()"
   ]
  },
  {
   "cell_type": "markdown",
   "metadata": {},
   "source": [
    "# Prior"
   ]
  },
  {
   "cell_type": "code",
   "execution_count": null,
   "metadata": {},
   "outputs": [],
   "source": [
    "xDim=2;\n",
    "yDim=1;\n",
    "\n",
    "var = 0.7    # Marginal Variance\n",
    "length = 1 # Lengthscale of the kernel\n",
    "nu = 1.0/2.0 # Smoothness parameter\n",
    "\n",
    "kern = ma.MaternKernel(xDim, var, length, nu)\n",
    "\n",
    "mean = ma.LinearMean(np.zeros((1,xDim)), [0.25])\n",
    "\n",
    "logPrior = ma.GaussianProcess(mean, kern).Discretize(mesh.coordinates().T).AsDensity()"
   ]
  },
  {
   "cell_type": "markdown",
   "metadata": {},
   "source": [
    "# Likelihood"
   ]
  },
  {
   "cell_type": "code",
   "execution_count": null,
   "metadata": {
    "scrolled": false
   },
   "outputs": [],
   "source": [
    "noiseVar = 1e-4\n",
    "noiseCov = noiseVar*np.eye(obsData.shape[0])\n",
    "likelihood = mm.Gaussian(obsData, noiseCov).AsDensity()"
   ]
  },
  {
   "cell_type": "markdown",
   "metadata": {},
   "source": [
    "# Posterior"
   ]
  },
  {
   "cell_type": "code",
   "execution_count": null,
   "metadata": {
    "scrolled": false
   },
   "outputs": [],
   "source": [
    "posteriorPiece = mm.DensityProduct(2)\n",
    "p_0 = mm.IdentityOperator(V.dim())"
   ]
  },
  {
   "cell_type": "code",
   "execution_count": null,
   "metadata": {
    "scrolled": false
   },
   "outputs": [],
   "source": [
    "graph = mm.WorkGraph()\n",
    "\n",
    "# Forward model nodes and edges\n",
    "graph.AddNode(p_0, \"p_0\")\n",
    "#graph.AddNode(obsOperator, \"B\")\n",
    "graph.AddNode(fwdSolver, \"u\")\n",
    "\n",
    "graph.AddEdge(\"p_0\", 0, \"u\", 0)\n",
    "#graph.AddEdge(\"u\", 0, \"B\", 0)\n",
    "\n",
    "# Other nodes and edges\n",
    "graph.AddNode(likelihood, \"Likelihood\")\n",
    "graph.AddNode(logPrior, \"Prior\")\n",
    "graph.AddNode(posteriorPiece,\"Posterior\")\n",
    "\n",
    "#graph.AddEdge(\"B\", 0, \"Likelihood\", 0)\n",
    "graph.AddEdge(\"u\", 0, \"Likelihood\", 0)\n",
    "graph.AddEdge(\"p_0\", 0, \"Prior\", 0)\n",
    "graph.AddEdge(\"Prior\",0,\"Posterior\",0)\n",
    "graph.AddEdge(\"Likelihood\",0, \"Posterior\",1)"
   ]
  },
  {
   "cell_type": "code",
   "execution_count": null,
   "metadata": {
    "scrolled": false
   },
   "outputs": [],
   "source": [
    "graph.Visualize(\"PosteriorGraph.png\")\n",
    "Image(filename='PosteriorGraph.png') "
   ]
  },
  {
   "cell_type": "code",
   "execution_count": null,
   "metadata": {
    "scrolled": false
   },
   "outputs": [],
   "source": [
    "problem = ms.SamplingProblem(graph.CreateModPiece(\"Posterior\"))"
   ]
  },
  {
   "cell_type": "code",
   "execution_count": null,
   "metadata": {
    "scrolled": false
   },
   "outputs": [],
   "source": [
    "'''\n",
    "proposalOptions = dict()\n",
    "proposalOptions['Method'] = 'AMProposal'\n",
    "proposalOptions['ProposalVariance'] = 1e-1\n",
    "proposalOptions['AdaptSteps'] = 100\n",
    "proposalOptions['AdaptStart'] = 1000\n",
    "proposalOptions['AdaptScale'] = 0.1\n",
    "\n",
    "kernelOptions = dict()\n",
    "kernelOptions['Method'] = 'MHKernel'\n",
    "kernelOptions['Proposal'] = 'ProposalBlock'\n",
    "kernelOptions['ProposalBlock'] = proposalOptions\n",
    "\n",
    "options = dict()\n",
    "options['NumSamples'] = 5000\n",
    "options['ThinIncrement'] = 1\n",
    "options['BurnIn'] = 1\n",
    "options['KernelList'] = 'Kernel1'\n",
    "options['PrintLevel'] = 3\n",
    "options['Kernel1'] = kernelOptions\n",
    "\n",
    "mcmc = ms.SingleChainMCMC(options,problem)\n",
    "'''\n",
    "# Setup pCN sampler\n",
    "proposalOptions = dict()\n",
    "proposalOptions['Method'] = 'CrankNicolsonProposal'\n",
    "proposalOptions['Beta'] = 0.5\n",
    "proposalOptions['PriorNode'] = 'Prior' #Needs to know where prior is to extract prior covariances\n",
    "\n",
    "kernelOptions = dict()\n",
    "kernelOptions['Method'] = 'MHKernel'\n",
    "kernelOptions['Proposal'] = 'ProposalBlock'\n",
    "kernelOptions['ProposalBlock'] = proposalOptions\n",
    "\n",
    "options = dict()\n",
    "options['NumSamples'] = 5000\n",
    "options['ThinIncrement'] = 1\n",
    "options['BurnIn'] = 10\n",
    "options['KernelList'] = 'Kernel1'\n",
    "options['PrintLevel'] = 3\n",
    "options['Kernel1'] = kernelOptions\n",
    "\n",
    "mcmc = ms.SingleChainMCMC(options,problem)"
   ]
  },
  {
   "cell_type": "code",
   "execution_count": null,
   "metadata": {
    "scrolled": false
   },
   "outputs": [],
   "source": [
    "startPt = 0.25*np.ones(V.dim())\n",
    "samps = mcmc.Run(startPt)"
   ]
  },
  {
   "cell_type": "code",
   "execution_count": null,
   "metadata": {
    "scrolled": false
   },
   "outputs": [],
   "source": [
    "ess = samps.ESS()\n",
    "print('Effective Sample Size = \\n', ess)\n",
    "\n",
    "sampMean = samps.Mean()\n",
    "print('\\nSample mean = \\n', sampMean)\n",
    "\n",
    "sampCov = samps.Covariance()\n",
    "print('\\nSample Covariance = \\n', sampCov)\n",
    "\n",
    "mcErr = np.sqrt( samps.Variance() / ess)\n",
    "print('\\nEstimated MC error in mean = \\n', mcErr)\n",
    "\n",
    "nb.plot(m)\n",
    "plt.title(\"True p0\")\n",
    "plt.show()\n",
    "\n",
    "m_post = dl.Function(V)\n",
    "m_post.vector().set_local(sampMean)\n",
    "nb.plot(m_post)\n",
    "plt.title(\"Posterior mean\")\n",
    "plt.show()"
   ]
  },
  {
   "cell_type": "code",
   "execution_count": null,
   "metadata": {
    "scrolled": true
   },
   "outputs": [],
   "source": [
    "sampMat = samps.AsMatrix()"
   ]
  },
  {
   "cell_type": "code",
   "execution_count": null,
   "metadata": {
    "scrolled": false
   },
   "outputs": [],
   "source": [
    "plt.figure(figsize=(15,15))\n",
    "plt.plot(sampMat.T)\n",
    "plt.show()"
   ]
  },
  {
   "cell_type": "markdown",
   "metadata": {},
   "source": [
    "# Plot samples of the posterior predictive"
   ]
  },
  {
   "cell_type": "code",
   "execution_count": null,
   "metadata": {
    "scrolled": true
   },
   "outputs": [],
   "source": [
    "#predSamps = np.zeros((numPts, sampMat.shape[1]))\n",
    "\n",
    "#predModel = graph.CreateModPiece(\"u\")\n",
    "\n",
    "#for i in range(sampMat.shape[1]):\n",
    "#    predSamps[:,i] = predModel.Evaluate([ sampMat[:,i] ])[0]"
   ]
  }
 ],
 "metadata": {
  "kernelspec": {
   "display_name": "Python 3",
   "language": "python",
   "name": "python3"
  },
  "language_info": {
   "codemirror_mode": {
    "name": "ipython",
    "version": 3
   },
   "file_extension": ".py",
   "mimetype": "text/x-python",
   "name": "python",
   "nbconvert_exporter": "python",
   "pygments_lexer": "ipython3",
   "version": "3.5.2"
  }
 },
 "nbformat": 4,
 "nbformat_minor": 2
}
