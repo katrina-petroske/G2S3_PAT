{
 "cells": [
  {
   "cell_type": "code",
   "execution_count": 1,
   "metadata": {
    "scrolled": true
   },
   "outputs": [],
   "source": [
    "from __future__ import absolute_import, division, print_function\n",
    "\n",
    "from hippylib import nb\n",
    "import dolfin as dl\n",
    "import numpy as np\n",
    "import matplotlib.pyplot as plt\n",
    "import sys\n",
    "import pandas as pd\n",
    "%matplotlib inline\n",
    "\n",
    "import logging\n",
    "logging.getLogger('FFC').setLevel(logging.ERROR)\n",
    "logging.getLogger('UFC').setLevel(logging.ERROR)\n",
    "dl.set_log_active(False)\n",
    "\n",
    "sys.path.insert(0,'/home/fenics/Installations/MUQ_INSTALL/lib')\n",
    "from IPython.display import Image\n",
    "\n",
    "# MUQ Includes\n",
    "import pymuqModeling as mm # Needed for Gaussian distribution\n",
    "import pymuqApproximation as ma # Needed for Gaussian processes\n",
    "import pymuqSamplingAlgorithms as ms # Needed for MCMC\n",
    "\n",
    "from PAT_forward import PAT_forward"
   ]
  },
  {
   "cell_type": "markdown",
   "metadata": {},
   "source": [
    "# Hyperparameters"
   ]
  },
  {
   "cell_type": "code",
   "execution_count": 2,
   "metadata": {
    "scrolled": true
   },
   "outputs": [],
   "source": [
    "nx = ny = 10\n",
    "mesh = dl.RectangleMesh(dl.Point(0, 0),dl.Point(1,1),nx,ny,\"right\")\n",
    "V = dl.FunctionSpace(mesh, 'P', 1)\n",
    "time_final = 9.5e-6\n",
    "numSteps = 14\n",
    "numObs = 10\n",
    "c = 1500"
   ]
  },
  {
   "cell_type": "markdown",
   "metadata": {},
   "source": [
    "# Synthetic Data "
   ]
  },
  {
   "cell_type": "code",
   "execution_count": 3,
   "metadata": {
    "scrolled": false
   },
   "outputs": [
    {
     "name": "stderr",
     "output_type": "stream",
     "text": [
      "/usr/lib/python3/dist-packages/dolfin/cpp/la.py:1331: DeprecationWarning: GenericVector.array() is being deprecated, use GenericVector.get_local()\n",
      "  \"use GenericVector.get_local()\", DeprecationWarning)\n",
      "/usr/lib/python3/dist-packages/dolfin/cpp/la.py:1331: DeprecationWarning: GenericVector.array() is being deprecated, use GenericVector.get_local()\n",
      "  \"use GenericVector.get_local()\", DeprecationWarning)\n"
     ]
    },
    {
     "data": {
      "image/png": "[encoded data removed]",
      "text/plain": [
       "<matplotlib.figure.Figure at 0x7f739e286940>"
      ]
     },
     "metadata": {},
     "output_type": "display_data"
    }
   ],
   "source": [
    "fwdSolver = PAT_forward(time_final, numSteps, c, V, numObs)\n",
    "\n",
    "# Prior\n",
    "m = dl.interpolate(dl.Expression('0.5 * exp(-(x[0]-0.5)*(x[0]-0.5)/0.05 -(x[1]-0.5)*(x[1]-0.5)/0.05)', degree=2), V)\n",
    "#logPriorMu = m.vector().get_local()\n",
    "#logPriorCov = 0.02*np.eye(V.dim())\n",
    "#logPrior = mm.Gaussian(logPriorMu, logPriorCov).AsDensity()\n",
    "\n",
    "# Observation data\n",
    "obsData = fwdSolver.Evaluate([m.vector().get_local()])[0]"
   ]
  },
  {
   "cell_type": "code",
   "execution_count": 12,
   "metadata": {},
   "outputs": [
    {
     "data": {
      "image/png": "[encoded data removed]",
      "text/plain": [
       "<matplotlib.figure.Figure at 0x7f739b388080>"
      ]
     },
     "metadata": {},
     "output_type": "display_data"
    }
   ],
   "source": [
    "s = 0\n",
    "plt.plot(obsData[s::numObs])\n",
    "plt.show()"
   ]
  },
  {
   "cell_type": "markdown",
   "metadata": {},
   "source": [
    "# Prior"
   ]
  },
  {
   "cell_type": "code",
   "execution_count": null,
   "metadata": {},
   "outputs": [],
   "source": [
    "xDim=2;\n",
    "yDim=1;\n",
    "\n",
    "var = 0.7    # Marginal Variance\n",
    "length = 1 # Lengthscale of the kernel\n",
    "nu = 1.0/2.0 # Smoothness parameter\n",
    "\n",
    "kern = ma.MaternKernel(xDim, var, length, nu)\n",
    "\n",
    "mean = ma.LinearMean(np.zeros((1,xDim)), [0.25])\n",
    "\n",
    "logPrior = ma.GaussianProcess(mean, kern).Discretize(mesh.coordinates().T).AsDensity()"
   ]
  },
  {
   "cell_type": "markdown",
   "metadata": {},
   "source": [
    "# Likelihood"
   ]
  },
  {
   "cell_type": "code",
   "execution_count": null,
   "metadata": {
    "scrolled": false
   },
   "outputs": [],
   "source": [
    "noiseVar = 1e-4\n",
    "noiseCov = noiseVar*np.eye(obsData.shape[0])\n",
    "likelihood = mm.Gaussian(obsData, noiseCov).AsDensity()"
   ]
  },
  {
   "cell_type": "markdown",
   "metadata": {},
   "source": [
    "# Posterior"
   ]
  },
  {
   "cell_type": "code",
   "execution_count": null,
   "metadata": {
    "scrolled": false
   },
   "outputs": [],
   "source": [
    "posteriorPiece = mm.DensityProduct(2)\n",
    "p_0 = mm.IdentityOperator(V.dim())"
   ]
  },
  {
   "cell_type": "code",
   "execution_count": null,
   "metadata": {
    "scrolled": false
   },
   "outputs": [],
   "source": [
    "graph = mm.WorkGraph()\n",
    "\n",
    "# Forward model nodes and edges\n",
    "graph.AddNode(p_0, \"p_0\")\n",
    "#graph.AddNode(obsOperator, \"B\")\n",
    "graph.AddNode(fwdSolver, \"u\")\n",
    "\n",
    "graph.AddEdge(\"p_0\", 0, \"u\", 0)\n",
    "#graph.AddEdge(\"u\", 0, \"B\", 0)\n",
    "\n",
    "# Other nodes and edges\n",
    "graph.AddNode(likelihood, \"Likelihood\")\n",
    "graph.AddNode(logPrior, \"Prior\")\n",
    "graph.AddNode(posteriorPiece,\"Posterior\")\n",
    "\n",
    "#graph.AddEdge(\"B\", 0, \"Likelihood\", 0)\n",
    "graph.AddEdge(\"u\", 0, \"Likelihood\", 0)\n",
    "graph.AddEdge(\"p_0\", 0, \"Prior\", 0)\n",
    "graph.AddEdge(\"Prior\",0,\"Posterior\",0)\n",
    "graph.AddEdge(\"Likelihood\",0, \"Posterior\",1)"
   ]
  },
  {
   "cell_type": "code",
   "execution_count": null,
   "metadata": {
    "scrolled": false
   },
   "outputs": [],
   "source": [
    "graph.Visualize(\"PosteriorGraph.png\")\n",
    "Image(filename='PosteriorGraph.png') "
   ]
  },
  {
   "cell_type": "code",
   "execution_count": null,
   "metadata": {
    "scrolled": false
   },
   "outputs": [],
   "source": [
    "problem = ms.SamplingProblem(graph.CreateModPiece(\"Posterior\"))"
   ]
  },
  {
   "cell_type": "code",
   "execution_count": null,
   "metadata": {
    "scrolled": false
   },
   "outputs": [],
   "source": [
    "'''\n",
    "proposalOptions = dict()\n",
    "proposalOptions['Method'] = 'AMProposal'\n",
    "proposalOptions['ProposalVariance'] = 1e-1\n",
    "proposalOptions['AdaptSteps'] = 100\n",
    "proposalOptions['AdaptStart'] = 1000\n",
    "proposalOptions['AdaptScale'] = 0.1\n",
    "\n",
    "kernelOptions = dict()\n",
    "kernelOptions['Method'] = 'MHKernel'\n",
    "kernelOptions['Proposal'] = 'ProposalBlock'\n",
    "kernelOptions['ProposalBlock'] = proposalOptions\n",
    "\n",
    "options = dict()\n",
    "options['NumSamples'] = 5000\n",
    "options['ThinIncrement'] = 1\n",
    "options['BurnIn'] = 1\n",
    "options['KernelList'] = 'Kernel1'\n",
    "options['PrintLevel'] = 3\n",
    "options['Kernel1'] = kernelOptions\n",
    "\n",
    "mcmc = ms.SingleChainMCMC(options,problem)\n",
    "'''\n",
    "# Setup pCN sampler\n",
    "proposalOptions = dict()\n",
    "proposalOptions['Method'] = 'CrankNicolsonProposal'\n",
    "proposalOptions['Beta'] = 0.5\n",
    "proposalOptions['PriorNode'] = 'Prior' #Needs to know where prior is to extract prior covariances\n",
    "\n",
    "kernelOptions = dict()\n",
    "kernelOptions['Method'] = 'MHKernel'\n",
    "kernelOptions['Proposal'] = 'ProposalBlock'\n",
    "kernelOptions['ProposalBlock'] = proposalOptions\n",
    "\n",
    "options = dict()\n",
    "options['NumSamples'] = 5000\n",
    "options['ThinIncrement'] = 1\n",
    "options['BurnIn'] = 10\n",
    "options['KernelList'] = 'Kernel1'\n",
    "options['PrintLevel'] = 3\n",
    "options['Kernel1'] = kernelOptions\n",
    "\n",
    "mcmc = ms.SingleChainMCMC(options,problem)"
   ]
  },
  {
   "cell_type": "code",
   "execution_count": null,
   "metadata": {
    "scrolled": false
   },
   "outputs": [],
   "source": [
    "startPt = 0.25*np.ones(V.dim())\n",
    "samps = mcmc.Run(startPt)"
   ]
  },
  {
   "cell_type": "code",
   "execution_count": null,
   "metadata": {
    "scrolled": false
   },
   "outputs": [],
   "source": [
    "ess = samps.ESS()\n",
    "print('Effective Sample Size = \\n', ess)\n",
    "\n",
    "sampMean = samps.Mean()\n",
    "print('\\nSample mean = \\n', sampMean)\n",
    "\n",
    "sampCov = samps.Covariance()\n",
    "print('\\nSample Covariance = \\n', sampCov)\n",
    "\n",
    "mcErr = np.sqrt( samps.Variance() / ess)\n",
    "print('\\nEstimated MC error in mean = \\n', mcErr)\n",
    "\n",
    "nb.plot(m)\n",
    "plt.title(\"True p0\")\n",
    "plt.show()\n",
    "\n",
    "m_post = dl.Function(V)\n",
    "m_post.vector().set_local(sampMean)\n",
    "nb.plot(m_post)\n",
    "plt.title(\"Posterior mean\")\n",
    "plt.show()"
   ]
  },
  {
   "cell_type": "code",
   "execution_count": null,
   "metadata": {
    "scrolled": true
   },
   "outputs": [],
   "source": [
    "sampMat = samps.AsMatrix()"
   ]
  },
  {
   "cell_type": "code",
   "execution_count": null,
   "metadata": {
    "scrolled": false
   },
   "outputs": [],
   "source": [
    "plt.figure(figsize=(15,15))\n",
    "plt.plot(sampMat.T)\n",
    "plt.show()"
   ]
  },
  {
   "cell_type": "markdown",
   "metadata": {},
   "source": [
    "# Plot samples of the posterior predictive"
   ]
  },
  {
   "cell_type": "code",
   "execution_count": null,
   "metadata": {
    "scrolled": true
   },
   "outputs": [],
   "source": [
    "#predSamps = np.zeros((numPts, sampMat.shape[1]))\n",
    "\n",
    "#predModel = graph.CreateModPiece(\"u\")\n",
    "\n",
    "#for i in range(sampMat.shape[1]):\n",
    "#    predSamps[:,i] = predModel.Evaluate([ sampMat[:,i] ])[0]"
   ]
  }
 ],
 "metadata": {
  "kernelspec": {
   "display_name": "Python 3",
   "language": "python",
   "name": "python3"
  },
  "language_info": {
   "codemirror_mode": {
    "name": "ipython",
    "version": 3
   },
   "file_extension": ".py",
   "mimetype": "text/x-python",
   "name": "python",
   "nbconvert_exporter": "python",
   "pygments_lexer": "ipython3",
   "version": "3.5.2"
  }
 },
 "nbformat": 4,
 "nbformat_minor": 2
}
